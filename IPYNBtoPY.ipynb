{
 "cells": [
  {
   "cell_type": "code",
   "execution_count": 1,
   "id": "7bf1269b-75d6-4f16-963b-817d2d233cd2",
   "metadata": {},
   "outputs": [
    {
     "name": "stderr",
     "output_type": "stream",
     "text": [
      "[NbConvertApp] Converting notebook processor_regex.ipynb to script\n",
      "[NbConvertApp] Writing 1025 bytes to processor_regex.py\n",
      "[NbConvertApp] Converting notebook processor_bert.ipynb to script\n",
      "[NbConvertApp] Writing 1188 bytes to processor_bert.py\n",
      "[NbConvertApp] Converting notebook processor_llm.ipynb to script\n",
      "[NbConvertApp] Writing 1666 bytes to processor_llm.py\n",
      "[NbConvertApp] Converting notebook classify.ipynb to script\n",
      "[NbConvertApp] Writing 2171 bytes to classify.py\n"
     ]
    }
   ],
   "source": [
    "!jupyter nbconvert --to script processor_regex.ipynb\n",
    "!jupyter nbconvert --to script processor_bert.ipynb\n",
    "!jupyter nbconvert --to script processor_llm.ipynb\n",
    "!jupyter nbconvert --to script classify.ipynb\n"
   ]
  },
  {
   "cell_type": "code",
   "execution_count": null,
   "id": "f0e50a64-e54f-47fa-8a27-e0b94588f1e4",
   "metadata": {},
   "outputs": [],
   "source": [
    "url = \"https://raw.githubusercontent.com/cs109/2014_data/master/countries.csv\"\n",
    "df = pd.read_csv(url)\n",
    "df.head()\n"
   ]
  }
 ],
 "metadata": {
  "kernelspec": {
   "display_name": "Python 3 (ipykernel)",
   "language": "python",
   "name": "python3"
  },
  "language_info": {
   "codemirror_mode": {
    "name": "ipython",
    "version": 3
   },
   "file_extension": ".py",
   "mimetype": "text/x-python",
   "name": "python",
   "nbconvert_exporter": "python",
   "pygments_lexer": "ipython3",
   "version": "3.11.2"
  }
 },
 "nbformat": 4,
 "nbformat_minor": 5
}
