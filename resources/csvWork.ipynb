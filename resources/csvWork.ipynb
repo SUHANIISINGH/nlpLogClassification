{
 "cells": [
  {
   "cell_type": "code",
   "execution_count": 3,
   "id": "983471ef-f22b-450c-b93a-4e6a3777e345",
   "metadata": {},
   "outputs": [],
   "source": [
    "import pandas as pd"
   ]
  },
  {
   "cell_type": "code",
   "execution_count": 4,
   "id": "237dbb6f-231d-4771-88ea-6b320b5d9d32",
   "metadata": {},
   "outputs": [
    {
     "data": {
      "text/html": [
       "<div>\n",
       "<style scoped>\n",
       "    .dataframe tbody tr th:only-of-type {\n",
       "        vertical-align: middle;\n",
       "    }\n",
       "\n",
       "    .dataframe tbody tr th {\n",
       "        vertical-align: top;\n",
       "    }\n",
       "\n",
       "    .dataframe thead th {\n",
       "        text-align: right;\n",
       "    }\n",
       "</style>\n",
       "<table border=\"1\" class=\"dataframe\">\n",
       "  <thead>\n",
       "    <tr style=\"text-align: right;\">\n",
       "      <th></th>\n",
       "      <th>source</th>\n",
       "      <th>log_message</th>\n",
       "    </tr>\n",
       "  </thead>\n",
       "  <tbody>\n",
       "    <tr>\n",
       "      <th>0</th>\n",
       "      <td>ModernCRM</td>\n",
       "      <td>\"IP 192.168.133.114 blocked due to potential ...</td>\n",
       "    </tr>\n",
       "    <tr>\n",
       "      <th>1</th>\n",
       "      <td>BillingSystem</td>\n",
       "      <td>\"User 12345 logged in.\"</td>\n",
       "    </tr>\n",
       "    <tr>\n",
       "      <th>2</th>\n",
       "      <td>AnalyticsEngine</td>\n",
       "      <td>\"File data_6957.csv uploaded successfully by ...</td>\n",
       "    </tr>\n",
       "    <tr>\n",
       "      <th>3</th>\n",
       "      <td>AnalyticsEngine</td>\n",
       "      <td>\"Backup completed successfully.\"</td>\n",
       "    </tr>\n",
       "    <tr>\n",
       "      <th>4</th>\n",
       "      <td>ModernHR</td>\n",
       "      <td>\"GET /v2/54fadb412c4e40cdbaed9335e4c35a9e/ser...</td>\n",
       "    </tr>\n",
       "  </tbody>\n",
       "</table>\n",
       "</div>"
      ],
      "text/plain": [
       "            source                                        log_message\n",
       "0        ModernCRM   \"IP 192.168.133.114 blocked due to potential ...\n",
       "1    BillingSystem                            \"User 12345 logged in.\"\n",
       "2  AnalyticsEngine   \"File data_6957.csv uploaded successfully by ...\n",
       "3  AnalyticsEngine                   \"Backup completed successfully.\"\n",
       "4         ModernHR   \"GET /v2/54fadb412c4e40cdbaed9335e4c35a9e/ser..."
      ]
     },
     "execution_count": 4,
     "metadata": {},
     "output_type": "execute_result"
    }
   ],
   "source": [
    "url = \"https://github.com/codebasics/project-nlp-log-classification/raw/refs/heads/main/resources/test.csv\"\n",
    "df = pd.read_csv(url)\n",
    "df.head()\n"
   ]
  },
  {
   "cell_type": "code",
   "execution_count": 5,
   "id": "7ec1972b-c498-49af-b25a-409d8c8f767a",
   "metadata": {},
   "outputs": [],
   "source": [
    "df.to_csv(\"test.csv\", index=False)\n"
   ]
  },
  {
   "cell_type": "code",
   "execution_count": null,
   "id": "e41497a2-aeb0-4035-ab03-ea636b719e17",
   "metadata": {},
   "outputs": [],
   "source": []
  }
 ],
 "metadata": {
  "kernelspec": {
   "display_name": "Python 3 (ipykernel)",
   "language": "python",
   "name": "python3"
  },
  "language_info": {
   "codemirror_mode": {
    "name": "ipython",
    "version": 3
   },
   "file_extension": ".py",
   "mimetype": "text/x-python",
   "name": "python",
   "nbconvert_exporter": "python",
   "pygments_lexer": "ipython3",
   "version": "3.11.2"
  }
 },
 "nbformat": 4,
 "nbformat_minor": 5
}
