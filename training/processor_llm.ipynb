{
 "cells": [
  {
   "cell_type": "code",
   "execution_count": 1,
   "id": "c7a0959e-ed39-46c1-b530-f8c776625be9",
   "metadata": {},
   "outputs": [
    {
     "ename": "ModuleNotFoundError",
     "evalue": "No module named 'dotenv'",
     "output_type": "error",
     "traceback": [
      "\u001b[1;31m---------------------------------------------------------------------------\u001b[0m",
      "\u001b[1;31mModuleNotFoundError\u001b[0m                       Traceback (most recent call last)",
      "Cell \u001b[1;32mIn[1], line 1\u001b[0m\n\u001b[1;32m----> 1\u001b[0m \u001b[38;5;28;01mfrom\u001b[39;00m \u001b[38;5;21;01mdotenv\u001b[39;00m \u001b[38;5;28;01mimport\u001b[39;00m load_dotenv\n\u001b[0;32m      2\u001b[0m \u001b[38;5;28;01mfrom\u001b[39;00m \u001b[38;5;21;01mgroq\u001b[39;00m \u001b[38;5;28;01mimport\u001b[39;00m Groq\n\u001b[0;32m      3\u001b[0m \u001b[38;5;28;01mimport\u001b[39;00m \u001b[38;5;21;01mjson\u001b[39;00m\n",
      "\u001b[1;31mModuleNotFoundError\u001b[0m: No module named 'dotenv'"
     ]
    }
   ],
   "source": [
    "from dotenv import load_dotenv\n",
    "from groq import Groq\n",
    "import json\n",
    "import re\n",
    "\n",
    "\n",
    "load_dotenv()\n",
    "\n",
    "groq = Groq()\n",
    "\n",
    "def classify_with_llm(log_msg):\n",
    "    \"\"\"\n",
    "    Generate a variant of the input sentence. For example,\n",
    "    If input sentence is \"User session timed out unexpectedly, user ID: 9250.\",\n",
    "    variant would be \"Session timed out for user 9251\"\n",
    "    \"\"\"\n",
    "    prompt = f'''Classify the log message into one of these categories: \n",
    "    (1) Workflow Error, (2) Deprecation Warning.\n",
    "    If you can't figure out a category, use \"Unclassified\".\n",
    "    Put the category inside <category> </category> tags. \n",
    "    Log message: {log_msg}'''\n",
    "\n",
    "    chat_completion = groq.chat.completions.create(\n",
    "        messages=[{\"role\": \"user\", \"content\": prompt}],\n",
    "        # model=\"llama-3.3-70b-versatile\",\n",
    "        model=\"deepseek-r1-distill-llama-70b\",\n",
    "        temperature=0.5\n",
    "    )\n",
    "\n",
    "    content = chat_completion.choices[0].message.content\n",
    "    match = re.search(r'<category>(.*)<\\/category>', content, flags=re.DOTALL)\n",
    "    category = \"Unclassified\"\n",
    "    if match:\n",
    "        category = match.group(1)\n",
    "\n",
    "    return category\n",
    "\n",
    "\n",
    "if __name__ == \"__main__\":\n",
    "    print(classify_with_llm(\n",
    "        \"Case escalation for ticket ID 7324 failed because the assigned support agent is no longer active.\"))\n",
    "    print(classify_with_llm(\n",
    "        \"The 'ReportGenerator' module will be retired in version 4.0. Please migrate to the 'AdvancedAnalyticsSuite' by Dec 2025\"))\n",
    "    print(classify_with_llm(\"System reboot initiated by user 12345.\"))"
   ]
  },
  {
   "cell_type": "code",
   "execution_count": null,
   "id": "8ce99627-ec6f-44b5-9fd4-bd1aa0bbf532",
   "metadata": {},
   "outputs": [],
   "source": []
  }
 ],
 "metadata": {
  "kernelspec": {
   "display_name": "Python 3 (ipykernel)",
   "language": "python",
   "name": "python3"
  },
  "language_info": {
   "codemirror_mode": {
    "name": "ipython",
    "version": 3
   },
   "file_extension": ".py",
   "mimetype": "text/x-python",
   "name": "python",
   "nbconvert_exporter": "python",
   "pygments_lexer": "ipython3",
   "version": "3.11.2"
  }
 },
 "nbformat": 4,
 "nbformat_minor": 5
}
