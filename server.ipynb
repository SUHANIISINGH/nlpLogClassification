{
 "cells": [
  {
   "cell_type": "code",
   "execution_count": 1,
   "id": "6aa63c30-4b8c-4d2a-96fa-c8612dde1a40",
   "metadata": {},
   "outputs": [
    {
     "name": "stdout",
     "output_type": "stream",
     "text": [
      "WARNING:tensorflow:From C:\\Users\\Suhani Singh\\AppData\\Local\\Programs\\Python\\Python311\\Lib\\site-packages\\keras\\src\\losses.py:2976: The name tf.losses.sparse_softmax_cross_entropy is deprecated. Please use tf.compat.v1.losses.sparse_softmax_cross_entropy instead.\n",
      "\n",
      "Requirement already satisfied: python-dotenv in c:\\users\\suhani singh\\appdata\\local\\programs\\python\\python311\\lib\\site-packages (1.1.1)\n",
      "Requirement already satisfied: groq in c:\\users\\suhani singh\\appdata\\local\\programs\\python\\python311\\lib\\site-packages (0.30.0)\n",
      "Requirement already satisfied: anyio<5,>=3.5.0 in c:\\users\\suhani singh\\appdata\\local\\programs\\python\\python311\\lib\\site-packages (from groq) (4.2.0)\n",
      "Requirement already satisfied: distro<2,>=1.7.0 in c:\\users\\suhani singh\\appdata\\local\\programs\\python\\python311\\lib\\site-packages (from groq) (1.9.0)\n",
      "Requirement already satisfied: httpx<1,>=0.23.0 in c:\\users\\suhani singh\\appdata\\local\\programs\\python\\python311\\lib\\site-packages (from groq) (0.28.1)\n",
      "Requirement already satisfied: pydantic<3,>=1.9.0 in c:\\users\\suhani singh\\appdata\\local\\programs\\python\\python311\\lib\\site-packages (from groq) (2.11.7)\n",
      "Requirement already satisfied: sniffio in c:\\users\\suhani singh\\appdata\\local\\programs\\python\\python311\\lib\\site-packages (from groq) (1.3.0)\n",
      "Requirement already satisfied: typing-extensions<5,>=4.10 in c:\\users\\suhani singh\\appdata\\local\\programs\\python\\python311\\lib\\site-packages (from groq) (4.14.1)\n",
      "Requirement already satisfied: idna>=2.8 in c:\\users\\suhani singh\\appdata\\local\\programs\\python\\python311\\lib\\site-packages (from anyio<5,>=3.5.0->groq) (3.6)\n",
      "Requirement already satisfied: certifi in c:\\users\\suhani singh\\appdata\\local\\programs\\python\\python311\\lib\\site-packages (from httpx<1,>=0.23.0->groq) (2023.11.17)\n",
      "Requirement already satisfied: httpcore==1.* in c:\\users\\suhani singh\\appdata\\local\\programs\\python\\python311\\lib\\site-packages (from httpx<1,>=0.23.0->groq) (1.0.9)\n",
      "Requirement already satisfied: h11>=0.16 in c:\\users\\suhani singh\\appdata\\local\\programs\\python\\python311\\lib\\site-packages (from httpcore==1.*->httpx<1,>=0.23.0->groq) (0.16.0)\n",
      "Requirement already satisfied: annotated-types>=0.6.0 in c:\\users\\suhani singh\\appdata\\local\\programs\\python\\python311\\lib\\site-packages (from pydantic<3,>=1.9.0->groq) (0.7.0)\n",
      "Requirement already satisfied: pydantic-core==2.33.2 in c:\\users\\suhani singh\\appdata\\local\\programs\\python\\python311\\lib\\site-packages (from pydantic<3,>=1.9.0->groq) (2.33.2)\n",
      "Requirement already satisfied: typing-inspection>=0.4.0 in c:\\users\\suhani singh\\appdata\\local\\programs\\python\\python311\\lib\\site-packages (from pydantic<3,>=1.9.0->groq) (0.4.1)\n"
     ]
    }
   ],
   "source": [
    "import pandas as pd\n",
    "from fastapi import FastAPI, UploadFile, HTTPException\n",
    "from fastapi.responses import FileResponse\n",
    "\n",
    "from classify import classify\n",
    "\n",
    "app = FastAPI()\n",
    "\n",
    "@app.post(\"/classify/\")\n",
    "async def classify_logs(file: UploadFile):\n",
    "    if not file.filename.endswith('.csv'):\n",
    "        raise HTTPException(status_code=400, detail=\"File must be a CSV.\")\n",
    "    \n",
    "    try:\n",
    "        # Read the uploaded CSV\n",
    "        df = pd.read_csv(file.file)\n",
    "        if \"source\" not in df.columns or \"log_message\" not in df.columns:\n",
    "            raise HTTPException(status_code=400, detail=\"CSV must contain 'source' and 'log_message' columns.\")\n",
    "\n",
    "        # Perform classification\n",
    "        df[\"target_label\"] = classify(list(zip(df[\"source\"], df[\"log_message\"])))\n",
    "\n",
    "        print(\"Dataframe:\",df.to_dict())\n",
    "\n",
    "        # Save the modified file\n",
    "        output_file = \"resources/output.csv\"\n",
    "        df.to_csv(output_file, index=False)\n",
    "        print(\"File saved to output.csv\")\n",
    "        return FileResponse(output_file, media_type='text/csv')\n",
    "    except Exception as e:\n",
    "        raise HTTPException(status_code=500, detail=str(e))\n",
    "    finally:\n",
    "        file.file.close()\n",
    "        # # Clean up if the file was saved\n",
    "        # if os.path.exists(\"output.csv\"):\n",
    "        #     os.remove(\"output.csv\")"
   ]
  },
  {
   "cell_type": "code",
   "execution_count": null,
   "id": "6565ccb2-48db-4fb8-bbf3-d7c7ed4edd7a",
   "metadata": {},
   "outputs": [],
   "source": [
    "uvicorn app:app --reload\n"
   ]
  }
 ],
 "metadata": {
  "kernelspec": {
   "display_name": "Python 3 (ipykernel)",
   "language": "python",
   "name": "python3"
  },
  "language_info": {
   "codemirror_mode": {
    "name": "ipython",
    "version": 3
   },
   "file_extension": ".py",
   "mimetype": "text/x-python",
   "name": "python",
   "nbconvert_exporter": "python",
   "pygments_lexer": "ipython3",
   "version": "3.11.2"
  }
 },
 "nbformat": 4,
 "nbformat_minor": 5
}
