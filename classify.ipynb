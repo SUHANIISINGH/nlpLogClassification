{
 "cells": [
  {
   "cell_type": "code",
   "execution_count": 1,
   "id": "a6a025c6-4ec4-43a0-a164-cecec4f3d581",
   "metadata": {},
   "outputs": [
    {
     "name": "stdout",
     "output_type": "stream",
     "text": [
      "WARNING:tensorflow:From C:\\Users\\Suhani Singh\\AppData\\Local\\Programs\\Python\\Python311\\Lib\\site-packages\\keras\\src\\losses.py:2976: The name tf.losses.sparse_softmax_cross_entropy is deprecated. Please use tf.compat.v1.losses.sparse_softmax_cross_entropy instead.\n",
      "\n",
      "Requirement already satisfied: python-dotenv in c:\\users\\suhani singh\\appdata\\local\\programs\\python\\python311\\lib\\site-packages (1.1.1)\n",
      "Requirement already satisfied: groq in c:\\users\\suhani singh\\appdata\\local\\programs\\python\\python311\\lib\\site-packages (0.30.0)\n",
      "Requirement already satisfied: anyio<5,>=3.5.0 in c:\\users\\suhani singh\\appdata\\local\\programs\\python\\python311\\lib\\site-packages (from groq) (4.2.0)\n",
      "Requirement already satisfied: distro<2,>=1.7.0 in c:\\users\\suhani singh\\appdata\\local\\programs\\python\\python311\\lib\\site-packages (from groq) (1.9.0)\n",
      "Requirement already satisfied: httpx<1,>=0.23.0 in c:\\users\\suhani singh\\appdata\\local\\programs\\python\\python311\\lib\\site-packages (from groq) (0.28.1)\n",
      "Requirement already satisfied: pydantic<3,>=1.9.0 in c:\\users\\suhani singh\\appdata\\local\\programs\\python\\python311\\lib\\site-packages (from groq) (2.11.7)\n",
      "Requirement already satisfied: sniffio in c:\\users\\suhani singh\\appdata\\local\\programs\\python\\python311\\lib\\site-packages (from groq) (1.3.0)\n",
      "Requirement already satisfied: typing-extensions<5,>=4.10 in c:\\users\\suhani singh\\appdata\\local\\programs\\python\\python311\\lib\\site-packages (from groq) (4.14.1)\n",
      "Requirement already satisfied: idna>=2.8 in c:\\users\\suhani singh\\appdata\\local\\programs\\python\\python311\\lib\\site-packages (from anyio<5,>=3.5.0->groq) (3.6)\n",
      "Requirement already satisfied: certifi in c:\\users\\suhani singh\\appdata\\local\\programs\\python\\python311\\lib\\site-packages (from httpx<1,>=0.23.0->groq) (2023.11.17)\n",
      "Requirement already satisfied: httpcore==1.* in c:\\users\\suhani singh\\appdata\\local\\programs\\python\\python311\\lib\\site-packages (from httpx<1,>=0.23.0->groq) (1.0.9)\n",
      "Requirement already satisfied: h11>=0.16 in c:\\users\\suhani singh\\appdata\\local\\programs\\python\\python311\\lib\\site-packages (from httpcore==1.*->httpx<1,>=0.23.0->groq) (0.16.0)\n",
      "Requirement already satisfied: annotated-types>=0.6.0 in c:\\users\\suhani singh\\appdata\\local\\programs\\python\\python311\\lib\\site-packages (from pydantic<3,>=1.9.0->groq) (0.7.0)\n",
      "Requirement already satisfied: pydantic-core==2.33.2 in c:\\users\\suhani singh\\appdata\\local\\programs\\python\\python311\\lib\\site-packages (from pydantic<3,>=1.9.0->groq) (2.33.2)\n",
      "Requirement already satisfied: typing-inspection>=0.4.0 in c:\\users\\suhani singh\\appdata\\local\\programs\\python\\python311\\lib\\site-packages (from pydantic<3,>=1.9.0->groq) (0.4.1)\n"
     ]
    }
   ],
   "source": [
    "from processor_regex import classify_with_regex\n",
    "from processor_bert import classify_with_bert\n",
    "from processor_llm import classify_with_llm\n",
    "\n",
    "def classify(logs):\n",
    "    labels = []\n",
    "    for source, log_msg in logs:\n",
    "        label = classify_log(source, log_msg)\n",
    "        labels.append(label)\n",
    "    return labels\n",
    "\n",
    "\n",
    "def classify_log(source, log_msg):\n",
    "    if source == \"LegacyCRM\":\n",
    "        label = classify_with_llm(log_msg)\n",
    "    else:\n",
    "        label = classify_with_regex(log_msg)\n",
    "        if not label:\n",
    "            label = classify_with_bert(log_msg)\n",
    "    return label\n",
    "\n",
    "def classify_csv(input_file):\n",
    "    import pandas as pd\n",
    "    df = pd.read_csv(input_file)\n",
    "\n",
    "    # Perform classification\n",
    "    df[\"target_label\"] = classify(list(zip(df[\"source\"], df[\"log_message\"])))\n",
    "\n",
    "    # Save the modified file\n",
    "    output_file = \"output.csv\"\n",
    "    df.to_csv(output_file, index=False)\n",
    "\n",
    "    return output_file\n",
    "\n",
    "if __name__ == '__main__':\n",
    "    classify_csv(\"resources/test.csv\")\n",
    "\n",
    "    # logs = [\n",
    "    #     (\"ModernCRM\", \"IP 192.168.133.114 blocked due to potential attack\"),\n",
    "    #     (\"BillingSystem\", \"User 12345 logged in.\"),\n",
    "    #     (\"AnalyticsEngine\", \"File data_6957.csv uploaded successfully by user User265.\"),\n",
    "    #     (\"AnalyticsEngine\", \"Backup completed successfully.\"),\n",
    "    #     (\"ModernHR\", \"GET /v2/54fadb412c4e40cdbaed9335e4c35a9e/servers/detail HTTP/1.1 RCODE  200 len: 1583 time: 0.1878400\"),\n",
    "    #     (\"ModernHR\", \"Admin access escalation detected for user 9429\"),\n",
    "    #     (\"LegacyCRM\", \"Case escalation for ticket ID 7324 failed because the assigned support agent is no longer active.\"),\n",
    "    #     (\"LegacyCRM\", \"Invoice generation process aborted for order ID 8910 due to invalid tax calculation module.\"),\n",
    "    #     (\"LegacyCRM\", \"The 'BulkEmailSender' feature is no longer supported. Use 'EmailCampaignManager' for improved functionality.\"),\n",
    "    #     (\"LegacyCRM\", \" The 'ReportGenerator' module will be retired in version 4.0. Please migrate to the 'AdvancedAnalyticsSuite' by Dec 2025\")\n",
    "    # ]\n",
    "    # labels = classify(logs)\n",
    "    #\n",
    "    # for log, label in zip(logs, labels):\n",
    "    #     print(log[0], \"->\", label)\n",
    "\n"
   ]
  },
  {
   "cell_type": "code",
   "execution_count": null,
   "id": "cc403edd-309c-4123-bce6-30aa8a19c9fc",
   "metadata": {},
   "outputs": [],
   "source": []
  }
 ],
 "metadata": {
  "kernelspec": {
   "display_name": "Python 3 (ipykernel)",
   "language": "python",
   "name": "python3"
  },
  "language_info": {
   "codemirror_mode": {
    "name": "ipython",
    "version": 3
   },
   "file_extension": ".py",
   "mimetype": "text/x-python",
   "name": "python",
   "nbconvert_exporter": "python",
   "pygments_lexer": "ipython3",
   "version": "3.11.2"
  }
 },
 "nbformat": 4,
 "nbformat_minor": 5
}
